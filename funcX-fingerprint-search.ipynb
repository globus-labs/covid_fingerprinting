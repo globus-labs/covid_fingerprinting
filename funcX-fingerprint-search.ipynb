{
 "cells": [
  {
   "cell_type": "code",
   "execution_count": null,
   "metadata": {},
   "outputs": [],
   "source": [
    "from funcx.sdk.client import FuncXClient\n",
    "\n",
    "fxc = FuncXClient()"
   ]
  },
  {
   "cell_type": "code",
   "execution_count": null,
   "metadata": {},
   "outputs": [],
   "source": [
    "def process_one_target(files, target, N):\n",
    "    import rdkit\n",
    "    import base64\n",
    "    from rdkit.Chem import AllChem\n",
    "    from rdkit import Chem\n",
    "    from rdkit import RDLogger\n",
    "    from rdkit import DataStructs\n",
    "    from pstats import SortKey\n",
    "    import pickle\n",
    "    from operator import itemgetter\n",
    "    import csv\n",
    "\n",
    "    try:\n",
    "        bit_target = AllChem.GetMorganFingerprintAsBitVect(Chem.MolFromSmiles(target), 2, nBits=2048)\n",
    "    except:\n",
    "        return None\n",
    "    \n",
    "    best_so_far = [('', 0.0) for index in range(N)] \n",
    "    for file in files:\n",
    "        if file.endswith('pkl'):\n",
    "            read = pickle.load( open(file, 'rb') )\n",
    "        else:\n",
    "            with open(file, 'r') as f:\n",
    "                reader = csv.reader(f)\n",
    "                read = list(map(tuple, reader))\n",
    "        fingerprint_set = []\n",
    "        for sm, _, fp in read:\n",
    "            # Next TRY here as some do not convert\n",
    "            try:\n",
    "                bv = DataStructs.ExplicitBitVect(base64.b64decode(fp))\n",
    "            except:\n",
    "                bv = None\n",
    "            fingerprint_set += [(sm, bv)]\n",
    "            \n",
    "        # Find scores for non-None fingerprints in fingerprint set\n",
    "        scores = []\n",
    "        for (smile, fingerprint) in fingerprint_set:\n",
    "            try:\n",
    "                score = DataStructs.TanimotoSimilarity(fingerprint, bit_target)\n",
    "                scores += [(smile, score)]\n",
    "            except:\n",
    "                pass\n",
    "\n",
    "        sorted_scores = sorted(scores, key=itemgetter(1))\n",
    "        new_list = sorted_scores[-N:]\n",
    "\n",
    "        # Merge the lists\n",
    "        index1 = N-1\n",
    "        index2 = N-1\n",
    "        merged = []\n",
    "        for i in range(N):\n",
    "            element1 = best_so_far[index1]\n",
    "            element2 = new_list[index2]\n",
    "            if element1[1] < element2[1]:\n",
    "                merged += [element2]\n",
    "                index2 -= 1\n",
    "            else:\n",
    "                merged += [element1]\n",
    "                index1 -= 1\n",
    "        merged.reverse()     \n",
    "        best_so_far = merged\n",
    "            \n",
    "    return(best_so_far)"
   ]
  },
  {
   "cell_type": "code",
   "execution_count": null,
   "metadata": {},
   "outputs": [],
   "source": [
    "func_uuid = fxc.register_function(process_one_target,\n",
    "                                  description=\"Search for N closest smiles by fingerprint\")\n",
    "print(func_uuid)"
   ]
  },
  {
   "cell_type": "code",
   "execution_count": null,
   "metadata": {},
   "outputs": [],
   "source": [
    "endpoint_uuid = '50215494-f309-445f-92b0-8a270fd1bcae'\n",
    "test_files  = ['/home/chard/fingerprint/f1.csv', '/home/chard/fingerprint/f2.csv', '/home/chard/fingerprint/f3.csv']\n",
    "target_smile = 'O=C(Nc1cccc(c1)S(=O)(=O)N1CCCCC1)CN1Cc2c(C1)cccc2'\n",
    "N = 20\n",
    "res = fxc.run(test_files, target_smile, N, endpoint_id=endpoint_uuid, function_id=func_uuid)\n",
    "print(res)"
   ]
  },
  {
   "cell_type": "code",
   "execution_count": null,
   "metadata": {},
   "outputs": [],
   "source": [
    "r = fxc.get_result(res)\n",
    "print (r)"
   ]
  },
  {
   "cell_type": "code",
   "execution_count": null,
   "metadata": {},
   "outputs": [],
   "source": [
    "import matplotlib.pyplot as plt\n",
    "import numpy as np\n",
    "%matplotlib notebook \n",
    "\n",
    "def plot_figure(label, target, results, N, count):\n",
    "    plt.rcParams[\"figure.figsize\"] = (8,6)\n",
    "    plt.figure()\n",
    "    plt.title('Top %d matches in %s for\\n%s'%(N, label, target), fontsize=8)\n",
    "    plt.ylim(0,1)\n",
    "    scores_only = [x[1] for x in results]\n",
    "    plt.step(np.arange(len(scores_only)), np.array(scores_only), linewidth=1)\n",
    "    alphas = ''.join(c for c in target if c.isalpha() or c.isdigit() or c=='=' or c=='@')\n",
    "    figure_name = 'fig_%s__%s__%d.pdf'%(label, alphas[0:30], count) # random.randint(1,100))\n",
    "    #plt.savefig(figure_name)\n",
    "    #plt.close()"
   ]
  },
  {
   "cell_type": "code",
   "execution_count": null,
   "metadata": {},
   "outputs": [],
   "source": [
    "plot_figure('test', target_smile, r, N, 10)"
   ]
  }
 ],
 "metadata": {
  "kernelspec": {
   "display_name": "Python 3",
   "language": "python",
   "name": "python3"
  },
  "language_info": {
   "codemirror_mode": {
    "name": "ipython",
    "version": 3
   },
   "file_extension": ".py",
   "mimetype": "text/x-python",
   "name": "python",
   "nbconvert_exporter": "python",
   "pygments_lexer": "ipython3",
   "version": "3.8.1"
  }
 },
 "nbformat": 4,
 "nbformat_minor": 4
}
